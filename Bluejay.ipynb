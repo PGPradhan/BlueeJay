{
  "nbformat": 4,
  "nbformat_minor": 0,
  "metadata": {
    "colab": {
      "provenance": [],
      "authorship_tag": "ABX9TyMoIdLKMn+hj5qQnwzyj6+Y",
      "include_colab_link": true
    },
    "kernelspec": {
      "name": "python3",
      "display_name": "Python 3"
    },
    "language_info": {
      "name": "python"
    }
  },
  "cells": [
    {
      "cell_type": "markdown",
      "metadata": {
        "id": "view-in-github",
        "colab_type": "text"
      },
      "source": [
        "<a href=\"https://colab.research.google.com/github/PGPradhan/BlueeJay/blob/main/Bluejay.ipynb\" target=\"_parent\"><img src=\"https://colab.research.google.com/assets/colab-badge.svg\" alt=\"Open In Colab\"/></a>"
      ]
    },
    {
      "cell_type": "code",
      "execution_count": 9,
      "metadata": {
        "colab": {
          "base_uri": "https://localhost:8080/"
        },
        "id": "Vty4z7Vw5Qvs",
        "outputId": "99e943d0-8f8d-4b8a-92b7-5d580044832e"
      },
      "outputs": [
        {
          "output_type": "stream",
          "name": "stdout",
          "text": [
            "Enter the path to the CSV file: /content/Assignment_Timecard.xlsx - Sheet1.csv\n",
            "DeXgadiXXE REdarMe, ChrisMiaW S (Position: WFS000523) worked more than 14 hours in a single shift.\n"
          ]
        }
      ],
      "source": [
        "import pandas as pd\n",
        "from datetime import datetime, timedelta\n",
        "\n",
        "# Function to calculate the time difference between two timestamps\n",
        "def time_difference(start_time, end_time):\n",
        "    return (end_time - start_time).total_seconds() / 3600.0\n",
        "\n",
        "# Function to convert time in HH:MM format to float (hours)\n",
        "def convert_time_to_float(time_str):\n",
        "    if isinstance(time_str, float):\n",
        "        return time_str  # Already a float, no need to convert\n",
        "    try:\n",
        "        hours, minutes = map(int, time_str.split(':'))\n",
        "        return hours + minutes / 60.0\n",
        "    except ValueError:\n",
        "        return None\n",
        "\n",
        "# Function to analyze employee data from an Excel file\n",
        "def analyze_employee_data(file_path):\n",
        "    try:\n",
        "        # Read the Excel file into a DataFrame\n",
        "        df = pd.read_csv(file_path)\n",
        "\n",
        "        # Convert 'Time' and 'Time Out' columns to datetime objects\n",
        "        df['Time'] = pd.to_datetime(df['Time'])\n",
        "        df['Time Out'] = pd.to_datetime(df['Time Out'])\n",
        "\n",
        "        for index, row in df.iterrows():\n",
        "            employee_name = row['Employee Name']\n",
        "            position = row['Position ID']\n",
        "            timecard_hours_str = row['Timecard Hours (as Time)']\n",
        "            time_in = row['Time']\n",
        "            time_out = row['Time Out']\n",
        "\n",
        "            # Convert timecard hours to float (hours)\n",
        "            timecard_hours = convert_time_to_float(timecard_hours_str)\n",
        "\n",
        "            if timecard_hours is None:\n",
        "                print(f\"Invalid time format in 'Timecard Hours (as Time)' for {employee_name} (Position: {position}).\")\n",
        "                continue\n",
        "\n",
        "            # Check for less than 10 hours between shifts\n",
        "            if 1 < time_difference(time_out, time_in) < 10:\n",
        "                print(f\"{employee_name} (Position: {position}) has less than 10 hours between shifts.\")\n",
        "\n",
        "            # Check for more than 14 hours in a single shift\n",
        "            if timecard_hours > 14:\n",
        "                print(f\"{employee_name} (Position: {position}) worked more than 14 hours in a single shift.\")\n",
        "\n",
        "    except FileNotFoundError:\n",
        "        print(\"File not found.\")\n",
        "\n",
        "if __name__ == \"__main__\":\n",
        "    file_path = input(\"Enter the path to the CSV file: \")\n",
        "    analyze_employee_data(file_path)\n"
      ]
    },
    {
      "cell_type": "markdown",
      "source": [
        "c) Who has worked for more than 14 hours in a single shift"
      ],
      "metadata": {
        "id": "MO3BT6z-_bIV"
      }
    },
    {
      "cell_type": "code",
      "source": [
        "import pandas as pd\n",
        "from datetime import datetime, timedelta\n",
        "\n",
        "# Function to calculate the time difference between two timestamps\n",
        "def time_difference(start_time, end_time):\n",
        "    return (end_time - start_time).total_seconds() / 3600.0\n",
        "\n",
        "# Function to convert time in HH:MM format to float (hours)\n",
        "def convert_time_to_float(time_str):\n",
        "    if isinstance(time_str, float):\n",
        "        return time_str  # Already a float, no need to convert\n",
        "    try:\n",
        "        hours, minutes = map(int, time_str.split(':'))\n",
        "        return hours + minutes / 60.0\n",
        "    except ValueError:\n",
        "        return None\n",
        "\n",
        "# Function to analyze employee data from an Excel file\n",
        "def analyze_employee_data(file_path):\n",
        "    try:\n",
        "        # Read the Excel file into a DataFrame\n",
        "        df = pd.read_csv(file_path)\n",
        "\n",
        "        # Convert 'Time' and 'Time Out' columns to datetime objects\n",
        "        df['Time'] = pd.to_datetime(df['Time'])\n",
        "        df['Time Out'] = pd.to_datetime(df['Time Out'])\n",
        "\n",
        "        consecutive_days_count = 0\n",
        "        previous_employee = None\n",
        "\n",
        "        for index, row in df.iterrows():\n",
        "            employee_name = row['Employee Name']\n",
        "            position = row['Position ID']\n",
        "            timecard_hours_str = row['Timecard Hours (as Time)']\n",
        "            time_in = row['Time']\n",
        "            time_out = row['Time Out']\n",
        "\n",
        "            # Convert timecard hours to float (hours)\n",
        "            timecard_hours = convert_time_to_float(timecard_hours_str)\n",
        "\n",
        "            if timecard_hours is None:\n",
        "                print(f\"Invalid time format in 'Timecard Hours (as Time)' for {employee_name} (Position: {position}).\")\n",
        "                continue\n",
        "\n",
        "            # Check for less than 10 hours between shifts but greater than 1 hour\n",
        "            if 1 < time_difference(time_out, time_in) < 10:\n",
        "                print(f\"{employee_name} (Position: {position}) has less than 10 hours between shifts.\")\n",
        "\n",
        "            # Check for consecutive days worked\n",
        "            if previous_employee == employee_name:\n",
        "                consecutive_days_count += 1\n",
        "            else:\n",
        "                consecutive_days_count = 1\n",
        "\n",
        "            if consecutive_days_count == 7:\n",
        "                print(f\"{employee_name} (Position: {position}) has worked for 7 consecutive days.\")\n",
        "\n",
        "            previous_employee = employee_name\n",
        "\n",
        "    except FileNotFoundError:\n",
        "        print(\"File not found.\")\n",
        "\n",
        "if __name__ == \"__main__\":\n",
        "    file_path = input(\"Enter the path to the CSV file: \")\n",
        "    analyze_employee_data(file_path)\n"
      ],
      "metadata": {
        "colab": {
          "base_uri": "https://localhost:8080/"
        },
        "id": "uiHscG1Y-Z0V",
        "outputId": "75c98a0c-2473-491b-f80b-58bf5bfd08ac"
      },
      "execution_count": 14,
      "outputs": [
        {
          "output_type": "stream",
          "name": "stdout",
          "text": [
            "Enter the path to the CSV file: /content/Assignment_Timecard.xlsx - Sheet1.csv\n",
            "REsaXiaWE, XAis (Position: WFS000065) has worked for 7 consecutive days.\n",
            "Sparks, KeWWeMh (Position: WFS000101) has worked for 7 consecutive days.\n",
            "GaXCes, EXias XEpez (Position: WFS000127) has worked for 7 consecutive days.\n",
            "CaMaXaWE, CeghaW (Position: WFS000153) has worked for 7 consecutive days.\n",
            "Arias, FeXipe (Position: WFS000170) has worked for 7 consecutive days.\n",
            "Merrazas, GriaW (Position: WFS000180) has worked for 7 consecutive days.\n",
            "GarWes, JAsMiW (Position: WFS000181) has worked for 7 consecutive days.\n",
            "FeXix, XeEWeX (Position: WFS000183) has worked for 7 consecutive days.\n",
            "HerCEsiXXE, PedrE (Position: WFS000185) has worked for 7 consecutive days.\n",
            "Xee, XaCar (Position: WFS000200) has worked for 7 consecutive days.\n",
            "GaWks, GryaW (Position: WFS000226) has worked for 7 consecutive days.\n",
            "MAake, CasiaWE (Position: WFS000228) has worked for 7 consecutive days.\n",
            "SiWgh, MarAWpreeM (Position: WFS000246) has worked for 7 consecutive days.\n",
            "DiWh, DaA (Position: WFS000268) has worked for 7 consecutive days.\n",
            "ArEsMigAi, AXexaWder (Position: WFS000306) has worked for 7 consecutive days.\n",
            "De Xa Cerda, IgWaciE (Position: WFS000318) has worked for 7 consecutive days.\n",
            "REdrigAez, PedrE (Position: WFS000336) has worked for 7 consecutive days.\n",
            "MraW, WiXXiaC Ha (Position: WFS000345) has worked for 7 consecutive days.\n",
            "MAcker, CichaeX (Position: WFS000360) has worked for 7 consecutive days.\n",
            "CaMXEck, CEhaCCed (Position: WFS000362) has worked for 7 consecutive days.\n",
            "MaXeGi, ACirCasEAd (Position: WFS000364) has worked for 7 consecutive days.\n",
            "PayaW, DaWieX (Position: WFS000368) has worked for 7 consecutive days.\n",
            "ErMiz, AGigaiX (Position: WFS000372) has worked for 7 consecutive days.\n",
            "ErEpeza, JEvaW (Position: WFS000382) has worked for 7 consecutive days.\n",
            "VasqAez, AXfredE (Position: WFS000391) has worked for 7 consecutive days.\n",
            "SavaWg, JEhW (Position: WFS000393) has worked for 7 consecutive days.\n",
            "REdrigAez, XAis (Position: WFS000412) has worked for 7 consecutive days.\n",
            "EasMCaW, CichaeX (Position: WFS000414) has worked for 7 consecutive days.\n",
            "SiWgh, CaWpreeM (Position: WFS000418) has worked for 7 consecutive days.\n",
            "SiWgh, JaspreeM (Position: WFS000424) has worked for 7 consecutive days.\n",
            "SiWgXeMEW, REger (Position: WFS000426) has worked for 7 consecutive days.\n",
            "PaXaciE, JEWaMhaW (Position: WFS000434) has worked for 7 consecutive days.\n",
            "ErEzcE, SaAX (Position: WFS000442) has worked for 7 consecutive days.\n",
            "CercadE, SaAX (Position: WFS000446) has worked for 7 consecutive days.\n",
            "CEreira Jr, JEse (Position: WFS000456) has worked for 7 consecutive days.\n",
            "AXvarez, Edgar (Position: WFS000457) has worked for 7 consecutive days.\n",
            "PaAXE, KyXe (Position: WFS000460) has worked for 7 consecutive days.\n",
            "XiWW, JAsMiW (Position: WFS000462) has worked for 7 consecutive days.\n",
            "CaXdEWadE, AXfEWsE (Position: WFS000463) has worked for 7 consecutive days.\n",
            "CeWdEza, Erik (Position: WFS000465) has worked for 7 consecutive days.\n",
            "PerkiWs, MarraWce (Position: WFS000469) has worked for 7 consecutive days.\n",
            "GAeWdia, JAaW CarXEs (Position: WFS000473) has worked for 7 consecutive days.\n",
            "ZaCEra, Edward (Position: WFS000477) has worked for 7 consecutive days.\n",
            "ArevaXE, JEse (Position: WFS000491) has worked for 7 consecutive days.\n",
            "CErMes, DEAgXas Farid (Position: WFS000495) has worked for 7 consecutive days.\n",
            "CercadE, CrisMiaW (Position: WFS000496) has worked for 7 consecutive days.\n",
            "ZaCEra, CigAeX (Position: WFS000499) has worked for 7 consecutive days.\n",
            "Caxies, MerreXX (Position: WFS000500) has worked for 7 consecutive days.\n",
            "CcRAWWeX, REWaXd Xee (Position: WFS000501) has worked for 7 consecutive days.\n",
            "CEMMa, Jessica (Position: WFS000503) has worked for 7 consecutive days.\n",
            "Rivera AXcaWMar, GrayaW (Position: WFS000507) has worked for 7 consecutive days.\n",
            "EXivares, FeXCaW (Position: WFS000508) has worked for 7 consecutive days.\n",
            "ChaCErE, HEXger CarMiWez (Position: WFS000509) has worked for 7 consecutive days.\n",
            "WiXXiaCs, MyrreXX (Position: WFS000511) has worked for 7 consecutive days.\n",
            "CaraGiXXa, AWMhEWy (Position: WFS000514) has worked for 7 consecutive days.\n",
            "GrACfieXd, CErWeXiAs (Position: WFS000515) has worked for 7 consecutive days.\n",
            "Perez, EdwiW JiCeWez (Position: WFS000517) has worked for 7 consecutive days.\n",
            "ArrAMia, AXexis ArMArE (Position: WFS000518) has worked for 7 consecutive days.\n",
            "DiXXard, JEwaWW Cedric (Position: WFS000519) has worked for 7 consecutive days.\n",
            "SaWchez PaCpXEWa, CrisMiaW AXGerM (Position: WFS000521) has worked for 7 consecutive days.\n",
            "XEpez WAWez, XAis (Position: WFS000522) has worked for 7 consecutive days.\n",
            "DeXgadiXXE REdarMe, ChrisMiaW S (Position: WFS000523) has worked for 7 consecutive days.\n",
            "CeciWa, SiXvesMre Jr (Position: WFS000528) has worked for 7 consecutive days.\n",
            "FaGiaW CiraWda, JEse (Position: WFS000530) has worked for 7 consecutive days.\n",
            "HaCiXMEW, DeaWMe DevEW (Position: WFS000536) has worked for 7 consecutive days.\n",
            "HAWMer, ViWceWM De PaAX (Position: WFS000538) has worked for 7 consecutive days.\n",
            "AXcEcer, ECar JesAs (Position: WFS000541) has worked for 7 consecutive days.\n",
            "IWGEAa, JeffersEW (Position: WFS000546) has worked for 7 consecutive days.\n",
            "CesiWa CEreWE, KeviW FaGiaW (Position: WFS000548) has worked for 7 consecutive days.\n",
            "HEGGie ErMega, SeGasMiaW CichaeX (Position: WFS000549) has worked for 7 consecutive days.\n",
            "REdrigAez, GraWdEW AWgeX (Position: WFS000550) has worked for 7 consecutive days.\n",
            "Diaz GaXvez, RicardE JEsAe (Position: WFS000551) has worked for 7 consecutive days.\n",
            "EsMrada, JEse FeXix (Position: WFS000552) has worked for 7 consecutive days.\n",
            "SMrickXaWd, REdWey EAgeWe (Position: WFS000555) has worked for 7 consecutive days.\n",
            "RAvaXcaGa GaWAeXEs, DaWieX JesAs (Position: WFS000556) has worked for 7 consecutive days.\n",
            "JerEWiCE CEraXes, CarXEs D (Position: WFS000557) has worked for 7 consecutive days.\n",
            "DECiWgAez AviWa, CigAeX AWgeX (Position: WFS000569) has worked for 7 consecutive days.\n",
            "CAevas ZavaXa, JErge XAis (Position: WFS000571) has worked for 7 consecutive days.\n",
            "XariEs XaWdaverde, XAis ErWesME (Position: WFS000572) has worked for 7 consecutive days.\n",
            "VaXderraCa CasMiXXE, Escar FaGiaW (Position: WFS000573) has worked for 7 consecutive days.\n",
            "CiGriaW DeXgadE, EXeWa S (Position: WFS000574) has worked for 7 consecutive days.\n",
            "SaWchez, ArWAXfE (Position: WFS000577) has worked for 7 consecutive days.\n",
            "VasqAez, JEhW SeGasMiaW (Position: WFS000578) has worked for 7 consecutive days.\n",
            "GAMierrez, PedrE CigAeX (Position: WFS000579) has worked for 7 consecutive days.\n",
            "HerWaWdez SaWchez, AWdrew AWMhEWy (Position: WFS000581) has worked for 7 consecutive days.\n",
            "De XEs SaWMEs, JEseph XAis (Position: WFS000582) has worked for 7 consecutive days.\n",
            "ViXXa, AXfredE AieXXE (Position: WFS000583) has worked for 7 consecutive days.\n",
            "ArCeWMa FXEres, JEWaMhaW (Position: WFS000584) has worked for 7 consecutive days.\n",
            "RaCEs HerWaWdez, AdieX ECar (Position: WFS000585) has worked for 7 consecutive days.\n",
            "XariEs, Cesar GiEvaWWi (Position: WFS000587) has worked for 7 consecutive days.\n",
            "AGeX, WaMhaW REGerM PeWa (Position: WFS000588) has worked for 7 consecutive days.\n",
            "WgAyeW, RayCEWd (Position: WFS000589) has worked for 7 consecutive days.\n"
          ]
        }
      ]
    },
    {
      "cell_type": "markdown",
      "source": [
        "   a) who has worked for 7 consecutive days."
      ],
      "metadata": {
        "id": "MXTB5BCI_dI8"
      }
    },
    {
      "cell_type": "code",
      "source": [
        "import pandas as pd\n",
        "from datetime import datetime, timedelta\n",
        "\n",
        "# Function to calculate the time difference between two timestamps\n",
        "def time_difference(start_time, end_time):\n",
        "    return (end_time - start_time).total_seconds() / 3600.0\n",
        "\n",
        "# Function to convert time in HH:MM format to float (hours)\n",
        "def convert_time_to_float(time_str):\n",
        "    if isinstance(time_str, float):\n",
        "        return time_str  # Already a float, no need to convert\n",
        "    try:\n",
        "        hours, minutes = map(int, time_str.split(':'))\n",
        "        return hours + minutes / 60.0\n",
        "    except ValueError:\n",
        "        return None\n",
        "\n",
        "# Function to analyze employee data from an Excel file\n",
        "def analyze_employee_data(file_path):\n",
        "    try:\n",
        "        # Read the Excel file into a DataFrame\n",
        "        df = pd.read_csv(file_path)\n",
        "\n",
        "        # Convert 'Time' and 'Time Out' columns to datetime objects\n",
        "        df['Time'] = pd.to_datetime(df['Time'])\n",
        "        df['Time Out'] = pd.to_datetime(df['Time Out'])\n",
        "\n",
        "        previous_employee = None\n",
        "        previous_time_out = None\n",
        "\n",
        "        for index, row in df.iterrows():\n",
        "            employee_name = row['Employee Name']\n",
        "            position = row['Position ID']\n",
        "            timecard_hours_str = row['Timecard Hours (as Time)']\n",
        "            time_in = row['Time']\n",
        "            time_out = row['Time Out']\n",
        "\n",
        "            # Convert timecard hours to float (hours)\n",
        "            timecard_hours = convert_time_to_float(timecard_hours_str)\n",
        "\n",
        "            if timecard_hours is None:\n",
        "                print(f\"Invalid time format in 'Timecard Hours (as Time)' for {employee_name} (Position: {position}).\")\n",
        "                continue\n",
        "\n",
        "            if previous_employee == employee_name:\n",
        "                time_between_shifts = time_difference(time_in, previous_time_out)\n",
        "                if 1 < time_between_shifts < 10:\n",
        "                    print(f\"{employee_name} (Position: {position}) has less than 10 hours between shifts.\")\n",
        "            previous_employee = employee_name\n",
        "            previous_time_out = time_out\n",
        "\n",
        "    except FileNotFoundError:\n",
        "        print(\"File not found.\")\n",
        "\n",
        "if __name__ == \"__main__\":\n",
        "    file_path = input(\"Enter the path to the CSV file: \")\n",
        "    analyze_employee_data(file_path)\n"
      ],
      "metadata": {
        "colab": {
          "base_uri": "https://localhost:8080/"
        },
        "id": "h07OYD0F-r4S",
        "outputId": "cad00c00-9e80-4420-bcd8-bdf1e3050553"
      },
      "execution_count": 15,
      "outputs": [
        {
          "name": "stdout",
          "output_type": "stream",
          "text": [
            "Enter the path to the CSV file: /content/Assignment_Timecard.xlsx - Sheet1.csv\n"
          ]
        }
      ]
    },
    {
      "cell_type": "markdown",
      "source": [
        "b) who have less than 10 hours of time between shifts but greater than 1 hour"
      ],
      "metadata": {
        "id": "oyi0jSBs_gX1"
      }
    },
    {
      "cell_type": "code",
      "source": [],
      "metadata": {
        "id": "UQ1-lG_q_ioJ"
      },
      "execution_count": null,
      "outputs": []
    }
  ]
}